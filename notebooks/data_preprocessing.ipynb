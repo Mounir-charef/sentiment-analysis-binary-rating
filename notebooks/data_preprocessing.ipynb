{
 "cells": [
  {
   "cell_type": "code",
   "execution_count": 6,
   "metadata": {
    "collapsed": true,
    "ExecuteTime": {
     "end_time": "2023-09-03T20:33:35.061371400Z",
     "start_time": "2023-09-03T20:33:32.024185600Z"
    }
   },
   "outputs": [],
   "source": [
    "import pandas as pd\n",
    "import re\n",
    "import nltk\n",
    "from nltk.corpus import stopwords\n",
    "from nltk.stem import WordNetLemmatizer\n",
    "from nltk.tokenize.toktok import ToktokTokenizer\n",
    "from sklearn.model_selection import train_test_split\n",
    "from bs4 import BeautifulSoup as Bs\n",
    "import gensim.downloader as api\n",
    "import numpy as np\n",
    "from sklearn.linear_model import LogisticRegression\n",
    "from sklearn.metrics import accuracy_score, classification_report"
   ]
  },
  {
   "cell_type": "code",
   "execution_count": 2,
   "outputs": [
    {
     "name": "stderr",
     "output_type": "stream",
     "text": [
      "[nltk_data] Downloading package stopwords to\n",
      "[nltk_data]     C:\\Users\\chare\\AppData\\Roaming\\nltk_data...\n",
      "[nltk_data]   Package stopwords is already up-to-date!\n",
      "[nltk_data] Downloading package wordnet to\n",
      "[nltk_data]     C:\\Users\\chare\\AppData\\Roaming\\nltk_data...\n",
      "[nltk_data]   Package wordnet is already up-to-date!\n",
      "[nltk_data] Downloading package omw-1.4 to\n",
      "[nltk_data]     C:\\Users\\chare\\AppData\\Roaming\\nltk_data...\n",
      "[nltk_data]   Package omw-1.4 is already up-to-date!\n"
     ]
    }
   ],
   "source": [
    "nltk.download('stopwords')\n",
    "stop_words = set(stopwords.words('english'))\n",
    "\n",
    "nltk.download('wordnet')\n",
    "nltk.download('omw-1.4')\n",
    "wn = WordNetLemmatizer()\n",
    "\n",
    "tokenizer = ToktokTokenizer()\n",
    "\n",
    "word2vec = api.load('word2vec-google-news-300')"
   ],
   "metadata": {
    "collapsed": false,
    "ExecuteTime": {
     "end_time": "2023-09-03T20:32:32.087044500Z",
     "start_time": "2023-09-03T20:31:56.076151400Z"
    }
   }
  },
  {
   "cell_type": "code",
   "execution_count": 3,
   "outputs": [],
   "source": [
    "def process_text(text: str):\n",
    "    \"\"\"\n",
    "    This function will process the text data by:\n",
    "    1. Removing HTML tags and converting to lowercase.\n",
    "    2. Tokenizing the text.\n",
    "    3. Removing special characters.\n",
    "    4. Removing stopwords.\n",
    "    5. Lemmatizing the text.\n",
    "\n",
    "    :param text: str\n",
    "    :return: processed_text: str\n",
    "    \"\"\"\n",
    "    text = Bs(text, 'html.parser').get_text().lower()\n",
    "\n",
    "    tokens = tokenizer.tokenize(text)\n",
    "\n",
    "    tokens = [re.sub(r'[^a-zA-z0-9]', '', token) for token in tokens if token.isalnum()]\n",
    "\n",
    "    tokens = [word for word in tokens if word not in stop_words]\n",
    "\n",
    "    tokens = [wn.lemmatize(word) for word in tokens]\n",
    "\n",
    "    return tokens"
   ],
   "metadata": {
    "collapsed": false,
    "ExecuteTime": {
     "end_time": "2023-09-03T20:32:32.103060300Z",
     "start_time": "2023-09-03T20:32:32.092046800Z"
    }
   }
  },
  {
   "cell_type": "code",
   "execution_count": 4,
   "outputs": [],
   "source": [
    "def feature_extraction_word2vec(text: str):\n",
    "    \"\"\"\n",
    "    This function extracts features from the text data using Word2Vec embeddings.\n",
    "    :param text: str\n",
    "    :return: feature_vector: np.array\n",
    "    \"\"\"\n",
    "    # Split the preprocessed text into words\n",
    "\n",
    "    tokens = process_text(text)\n",
    "    feature_vector = np.array([word2vec[word] for word in tokens if word in word2vec]).mean(axis=0).reshape(1, -1)\n",
    "    return feature_vector"
   ],
   "metadata": {
    "collapsed": false,
    "ExecuteTime": {
     "end_time": "2023-09-03T20:32:32.121072700Z",
     "start_time": "2023-09-03T20:32:32.106073600Z"
    }
   }
  },
  {
   "cell_type": "code",
   "execution_count": 16,
   "outputs": [
    {
     "name": "stderr",
     "output_type": "stream",
     "text": [
      "C:\\Users\\chare\\AppData\\Local\\Temp\\ipykernel_7888\\3966708587.py:13: MarkupResemblesLocatorWarning: The input looks more like a filename than markup. You may want to open this file and pass the filehandle into Beautiful Soup.\n",
      "  text = Bs(text, 'html.parser').get_text().lower()\n"
     ]
    },
    {
     "name": "stdout",
     "output_type": "stream",
     "text": [
      "(45000, 1, 300) (5000, 1, 300) (45000, 1) (5000, 1)\n"
     ]
    }
   ],
   "source": [
    "df = pd.read_csv('../data/IMDB Dataset.csv')\n",
    "df['sentiment'] = df['sentiment'].map({'positive': 1, 'negative': 0})\n",
    "y = df['sentiment'].to_numpy().reshape(-1, 1)\n",
    "X = np.zeros((df.shape[0], 1, 300))\n",
    "for i, review in enumerate(df['review']):\n",
    "    new_data = feature_extraction_word2vec(review)\n",
    "    X[i] = new_data\n",
    "# split data into train and test\n",
    "X_train, X_test, y_train, y_test = train_test_split(X, y, test_size=0.2, random_state=42)\n",
    "print(X_train.shape, X_test.shape, y_train.shape, y_test.shape)\n"
   ],
   "metadata": {
    "collapsed": false,
    "ExecuteTime": {
     "end_time": "2023-09-03T20:37:49.904778600Z",
     "start_time": "2023-09-03T20:36:51.553448Z"
    }
   }
  },
  {
   "cell_type": "code",
   "execution_count": 61,
   "outputs": [],
   "source": [
    "import tensorflow as tf\n",
    "from tensorflow.keras.models import Sequential\n",
    "from tensorflow.keras.layers import LSTM, Dense, Dropout\n",
    "from tensorflow.keras.optimizers import Adam"
   ],
   "metadata": {
    "collapsed": false,
    "ExecuteTime": {
     "end_time": "2023-09-03T21:05:02.070490500Z",
     "start_time": "2023-09-03T21:05:01.891636300Z"
    }
   }
  },
  {
   "cell_type": "code",
   "execution_count": 62,
   "outputs": [],
   "source": [
    "# Define the model\n",
    "model = Sequential()\n",
    "model.add(LSTM(128, dropout=0.2, recurrent_dropout=0.2, return_sequences=True, input_shape=(1, 300)))  # Adjust input_shape\n",
    "model.add(LSTM(128, dropout=0.2, recurrent_dropout=0.2))\n",
    "model.add(Dense(64, activation='relu'))\n",
    "model.add(Dropout(0.5))\n",
    "model.add(Dense(1, activation='sigmoid'))"
   ],
   "metadata": {
    "collapsed": false,
    "ExecuteTime": {
     "end_time": "2023-09-03T21:05:02.385864800Z",
     "start_time": "2023-09-03T21:05:02.370871300Z"
    }
   }
  },
  {
   "cell_type": "code",
   "execution_count": 63,
   "outputs": [
    {
     "name": "stdout",
     "output_type": "stream",
     "text": [
      "Epoch 1/100\n",
      "654/654 [==============================] - 10s 10ms/step - loss: 0.4666 - binary_accuracy: 0.7800 - accuracy: 0.7800 - val_loss: 0.3840 - val_binary_accuracy: 0.8396 - val_accuracy: 0.8396\n",
      "Epoch 2/100\n",
      "654/654 [==============================] - 6s 9ms/step - loss: 0.4312 - binary_accuracy: 0.8060 - accuracy: 0.8060 - val_loss: 0.3815 - val_binary_accuracy: 0.8351 - val_accuracy: 0.8351\n",
      "Epoch 3/100\n",
      "654/654 [==============================] - 6s 9ms/step - loss: 0.4213 - binary_accuracy: 0.8110 - accuracy: 0.8110 - val_loss: 0.3834 - val_binary_accuracy: 0.8258 - val_accuracy: 0.8258\n",
      "Epoch 4/100\n",
      "654/654 [==============================] - 6s 9ms/step - loss: 0.4154 - binary_accuracy: 0.8138 - accuracy: 0.8138 - val_loss: 0.3763 - val_binary_accuracy: 0.8340 - val_accuracy: 0.8340\n",
      "Epoch 5/100\n",
      "654/654 [==============================] - 6s 9ms/step - loss: 0.4100 - binary_accuracy: 0.8173 - accuracy: 0.8173 - val_loss: 0.3774 - val_binary_accuracy: 0.8364 - val_accuracy: 0.8364\n",
      "Epoch 6/100\n",
      "654/654 [==============================] - 6s 9ms/step - loss: 0.4034 - binary_accuracy: 0.8220 - accuracy: 0.8220 - val_loss: 0.3644 - val_binary_accuracy: 0.8393 - val_accuracy: 0.8393\n",
      "Epoch 7/100\n",
      "654/654 [==============================] - 6s 9ms/step - loss: 0.4025 - binary_accuracy: 0.8209 - accuracy: 0.8209 - val_loss: 0.3647 - val_binary_accuracy: 0.8382 - val_accuracy: 0.8382\n",
      "Epoch 8/100\n",
      "654/654 [==============================] - 6s 9ms/step - loss: 0.3985 - binary_accuracy: 0.8217 - accuracy: 0.8217 - val_loss: 0.3655 - val_binary_accuracy: 0.8418 - val_accuracy: 0.8418\n",
      "Epoch 9/100\n",
      "654/654 [==============================] - 6s 9ms/step - loss: 0.3974 - binary_accuracy: 0.8249 - accuracy: 0.8249 - val_loss: 0.3617 - val_binary_accuracy: 0.8420 - val_accuracy: 0.8420\n",
      "Epoch 10/100\n",
      "654/654 [==============================] - 6s 9ms/step - loss: 0.3933 - binary_accuracy: 0.8247 - accuracy: 0.8247 - val_loss: 0.3689 - val_binary_accuracy: 0.8367 - val_accuracy: 0.8367\n",
      "Epoch 11/100\n",
      "654/654 [==============================] - 6s 9ms/step - loss: 0.3891 - binary_accuracy: 0.8268 - accuracy: 0.8268 - val_loss: 0.3623 - val_binary_accuracy: 0.8431 - val_accuracy: 0.8431\n",
      "Epoch 12/100\n",
      "654/654 [==============================] - 6s 9ms/step - loss: 0.3903 - binary_accuracy: 0.8266 - accuracy: 0.8266 - val_loss: 0.3582 - val_binary_accuracy: 0.8444 - val_accuracy: 0.8444\n",
      "Epoch 13/100\n",
      "654/654 [==============================] - 6s 9ms/step - loss: 0.3871 - binary_accuracy: 0.8281 - accuracy: 0.8281 - val_loss: 0.3602 - val_binary_accuracy: 0.8418 - val_accuracy: 0.8418\n",
      "Epoch 14/100\n",
      "654/654 [==============================] - 6s 9ms/step - loss: 0.3859 - binary_accuracy: 0.8308 - accuracy: 0.8308 - val_loss: 0.3586 - val_binary_accuracy: 0.8424 - val_accuracy: 0.8424\n",
      "Epoch 15/100\n",
      "654/654 [==============================] - 6s 9ms/step - loss: 0.3847 - binary_accuracy: 0.8298 - accuracy: 0.8298 - val_loss: 0.3537 - val_binary_accuracy: 0.8451 - val_accuracy: 0.8451\n",
      "Epoch 16/100\n",
      "654/654 [==============================] - 6s 9ms/step - loss: 0.3876 - binary_accuracy: 0.8300 - accuracy: 0.8300 - val_loss: 0.3599 - val_binary_accuracy: 0.8431 - val_accuracy: 0.8431\n",
      "Epoch 17/100\n",
      "654/654 [==============================] - 6s 9ms/step - loss: 0.3846 - binary_accuracy: 0.8307 - accuracy: 0.8307 - val_loss: 0.3527 - val_binary_accuracy: 0.8467 - val_accuracy: 0.8467\n",
      "Epoch 18/100\n",
      "654/654 [==============================] - 6s 9ms/step - loss: 0.3846 - binary_accuracy: 0.8293 - accuracy: 0.8293 - val_loss: 0.3585 - val_binary_accuracy: 0.8440 - val_accuracy: 0.8440\n",
      "Epoch 19/100\n",
      "654/654 [==============================] - 6s 9ms/step - loss: 0.3823 - binary_accuracy: 0.8310 - accuracy: 0.8310 - val_loss: 0.3529 - val_binary_accuracy: 0.8469 - val_accuracy: 0.8469\n",
      "Epoch 20/100\n",
      "654/654 [==============================] - 6s 9ms/step - loss: 0.3851 - binary_accuracy: 0.8314 - accuracy: 0.8314 - val_loss: 0.3539 - val_binary_accuracy: 0.8451 - val_accuracy: 0.8451\n",
      "Epoch 21/100\n",
      "654/654 [==============================] - 6s 9ms/step - loss: 0.3806 - binary_accuracy: 0.8324 - accuracy: 0.8324 - val_loss: 0.3495 - val_binary_accuracy: 0.8473 - val_accuracy: 0.8473\n",
      "Epoch 22/100\n",
      "654/654 [==============================] - 6s 9ms/step - loss: 0.3795 - binary_accuracy: 0.8341 - accuracy: 0.8341 - val_loss: 0.3494 - val_binary_accuracy: 0.8467 - val_accuracy: 0.8467\n",
      "Epoch 23/100\n",
      "654/654 [==============================] - 6s 9ms/step - loss: 0.3799 - binary_accuracy: 0.8343 - accuracy: 0.8343 - val_loss: 0.3523 - val_binary_accuracy: 0.8467 - val_accuracy: 0.8467\n",
      "Epoch 24/100\n",
      "654/654 [==============================] - 6s 10ms/step - loss: 0.3801 - binary_accuracy: 0.8327 - accuracy: 0.8327 - val_loss: 0.3490 - val_binary_accuracy: 0.8469 - val_accuracy: 0.8469\n",
      "Epoch 25/100\n",
      "654/654 [==============================] - 6s 10ms/step - loss: 0.3786 - binary_accuracy: 0.8344 - accuracy: 0.8344 - val_loss: 0.3502 - val_binary_accuracy: 0.8482 - val_accuracy: 0.8482\n",
      "Epoch 26/100\n",
      "654/654 [==============================] - 7s 11ms/step - loss: 0.3786 - binary_accuracy: 0.8332 - accuracy: 0.8332 - val_loss: 0.3512 - val_binary_accuracy: 0.8458 - val_accuracy: 0.8458\n",
      "Epoch 27/100\n",
      "654/654 [==============================] - 6s 10ms/step - loss: 0.3793 - binary_accuracy: 0.8321 - accuracy: 0.8321 - val_loss: 0.3501 - val_binary_accuracy: 0.8478 - val_accuracy: 0.8478\n",
      "Epoch 28/100\n",
      "654/654 [==============================] - 6s 10ms/step - loss: 0.3754 - binary_accuracy: 0.8343 - accuracy: 0.8343 - val_loss: 0.3481 - val_binary_accuracy: 0.8484 - val_accuracy: 0.8484\n",
      "Epoch 29/100\n",
      "654/654 [==============================] - 6s 10ms/step - loss: 0.3785 - binary_accuracy: 0.8354 - accuracy: 0.8354 - val_loss: 0.3471 - val_binary_accuracy: 0.8487 - val_accuracy: 0.8487\n",
      "Epoch 30/100\n",
      "654/654 [==============================] - 7s 10ms/step - loss: 0.3744 - binary_accuracy: 0.8333 - accuracy: 0.8333 - val_loss: 0.3505 - val_binary_accuracy: 0.8462 - val_accuracy: 0.8462\n",
      "Epoch 31/100\n",
      "654/654 [==============================] - 7s 10ms/step - loss: 0.3760 - binary_accuracy: 0.8341 - accuracy: 0.8341 - val_loss: 0.3459 - val_binary_accuracy: 0.8511 - val_accuracy: 0.8511\n",
      "Epoch 32/100\n",
      "654/654 [==============================] - 7s 10ms/step - loss: 0.3711 - binary_accuracy: 0.8383 - accuracy: 0.8383 - val_loss: 0.3522 - val_binary_accuracy: 0.8464 - val_accuracy: 0.8464\n",
      "Epoch 33/100\n",
      "654/654 [==============================] - 6s 10ms/step - loss: 0.3716 - binary_accuracy: 0.8366 - accuracy: 0.8366 - val_loss: 0.3467 - val_binary_accuracy: 0.8473 - val_accuracy: 0.8473\n",
      "Epoch 34/100\n",
      "654/654 [==============================] - 6s 10ms/step - loss: 0.3694 - binary_accuracy: 0.8383 - accuracy: 0.8383 - val_loss: 0.3465 - val_binary_accuracy: 0.8489 - val_accuracy: 0.8489\n",
      "Epoch 35/100\n",
      "654/654 [==============================] - 6s 10ms/step - loss: 0.3708 - binary_accuracy: 0.8372 - accuracy: 0.8372 - val_loss: 0.3445 - val_binary_accuracy: 0.8498 - val_accuracy: 0.8498\n",
      "Epoch 36/100\n",
      "654/654 [==============================] - 7s 10ms/step - loss: 0.3695 - binary_accuracy: 0.8378 - accuracy: 0.8378 - val_loss: 0.3433 - val_binary_accuracy: 0.8509 - val_accuracy: 0.8509\n",
      "Epoch 37/100\n",
      "654/654 [==============================] - 6s 10ms/step - loss: 0.3682 - binary_accuracy: 0.8400 - accuracy: 0.8400 - val_loss: 0.3431 - val_binary_accuracy: 0.8504 - val_accuracy: 0.8504\n",
      "Epoch 38/100\n",
      "654/654 [==============================] - 6s 10ms/step - loss: 0.3681 - binary_accuracy: 0.8392 - accuracy: 0.8392 - val_loss: 0.3468 - val_binary_accuracy: 0.8513 - val_accuracy: 0.8513\n",
      "Epoch 39/100\n",
      "654/654 [==============================] - 6s 10ms/step - loss: 0.3678 - binary_accuracy: 0.8395 - accuracy: 0.8395 - val_loss: 0.3417 - val_binary_accuracy: 0.8518 - val_accuracy: 0.8518\n",
      "Epoch 40/100\n",
      "654/654 [==============================] - 6s 10ms/step - loss: 0.3660 - binary_accuracy: 0.8397 - accuracy: 0.8397 - val_loss: 0.3458 - val_binary_accuracy: 0.8491 - val_accuracy: 0.8491\n",
      "Epoch 41/100\n",
      "654/654 [==============================] - 6s 10ms/step - loss: 0.3663 - binary_accuracy: 0.8365 - accuracy: 0.8365 - val_loss: 0.3437 - val_binary_accuracy: 0.8478 - val_accuracy: 0.8478\n",
      "Epoch 42/100\n",
      "654/654 [==============================] - 7s 10ms/step - loss: 0.3654 - binary_accuracy: 0.8399 - accuracy: 0.8399 - val_loss: 0.3432 - val_binary_accuracy: 0.8511 - val_accuracy: 0.8511\n",
      "Epoch 43/100\n",
      "654/654 [==============================] - 7s 11ms/step - loss: 0.3630 - binary_accuracy: 0.8396 - accuracy: 0.8396 - val_loss: 0.3451 - val_binary_accuracy: 0.8467 - val_accuracy: 0.8467\n",
      "Epoch 44/100\n",
      "654/654 [==============================] - 6s 10ms/step - loss: 0.3653 - binary_accuracy: 0.8387 - accuracy: 0.8387 - val_loss: 0.3541 - val_binary_accuracy: 0.8422 - val_accuracy: 0.8422\n",
      "Epoch 45/100\n",
      "654/654 [==============================] - 7s 10ms/step - loss: 0.3634 - binary_accuracy: 0.8398 - accuracy: 0.8398 - val_loss: 0.3466 - val_binary_accuracy: 0.8478 - val_accuracy: 0.8478\n",
      "Epoch 46/100\n",
      "654/654 [==============================] - 6s 10ms/step - loss: 0.3626 - binary_accuracy: 0.8421 - accuracy: 0.8421 - val_loss: 0.3416 - val_binary_accuracy: 0.8502 - val_accuracy: 0.8502\n",
      "Epoch 47/100\n",
      "654/654 [==============================] - 6s 10ms/step - loss: 0.3628 - binary_accuracy: 0.8419 - accuracy: 0.8419 - val_loss: 0.3408 - val_binary_accuracy: 0.8513 - val_accuracy: 0.8513\n",
      "Epoch 48/100\n",
      "654/654 [==============================] - 6s 9ms/step - loss: 0.3610 - binary_accuracy: 0.8417 - accuracy: 0.8417 - val_loss: 0.3457 - val_binary_accuracy: 0.8473 - val_accuracy: 0.8473\n",
      "Epoch 49/100\n",
      "654/654 [==============================] - 6s 9ms/step - loss: 0.3599 - binary_accuracy: 0.8417 - accuracy: 0.8417 - val_loss: 0.3477 - val_binary_accuracy: 0.8462 - val_accuracy: 0.8462\n",
      "Epoch 50/100\n",
      "654/654 [==============================] - 6s 9ms/step - loss: 0.3580 - binary_accuracy: 0.8422 - accuracy: 0.8422 - val_loss: 0.3431 - val_binary_accuracy: 0.8493 - val_accuracy: 0.8493\n",
      "Epoch 51/100\n",
      "654/654 [==============================] - 6s 10ms/step - loss: 0.3600 - binary_accuracy: 0.8408 - accuracy: 0.8408 - val_loss: 0.3507 - val_binary_accuracy: 0.8464 - val_accuracy: 0.8464\n",
      "Epoch 52/100\n",
      "654/654 [==============================] - 6s 10ms/step - loss: 0.3572 - binary_accuracy: 0.8425 - accuracy: 0.8425 - val_loss: 0.3433 - val_binary_accuracy: 0.8522 - val_accuracy: 0.8522\n",
      "Epoch 53/100\n",
      "654/654 [==============================] - 6s 10ms/step - loss: 0.3552 - binary_accuracy: 0.8437 - accuracy: 0.8437 - val_loss: 0.3416 - val_binary_accuracy: 0.8507 - val_accuracy: 0.8507\n",
      "Epoch 54/100\n",
      "654/654 [==============================] - 6s 10ms/step - loss: 0.3565 - binary_accuracy: 0.8442 - accuracy: 0.8442 - val_loss: 0.3428 - val_binary_accuracy: 0.8487 - val_accuracy: 0.8487\n",
      "Epoch 55/100\n",
      "654/654 [==============================] - 6s 10ms/step - loss: 0.3558 - binary_accuracy: 0.8427 - accuracy: 0.8427 - val_loss: 0.3409 - val_binary_accuracy: 0.8504 - val_accuracy: 0.8504\n",
      "Epoch 56/100\n",
      "654/654 [==============================] - 6s 10ms/step - loss: 0.3575 - binary_accuracy: 0.8429 - accuracy: 0.8429 - val_loss: 0.3456 - val_binary_accuracy: 0.8464 - val_accuracy: 0.8464\n",
      "Epoch 57/100\n",
      "654/654 [==============================] - 6s 10ms/step - loss: 0.3537 - binary_accuracy: 0.8450 - accuracy: 0.8450 - val_loss: 0.3415 - val_binary_accuracy: 0.8518 - val_accuracy: 0.8518\n",
      "Epoch 58/100\n",
      "654/654 [==============================] - 6s 10ms/step - loss: 0.3543 - binary_accuracy: 0.8444 - accuracy: 0.8444 - val_loss: 0.3401 - val_binary_accuracy: 0.8500 - val_accuracy: 0.8500\n",
      "Epoch 59/100\n",
      "654/654 [==============================] - 6s 10ms/step - loss: 0.3523 - binary_accuracy: 0.8462 - accuracy: 0.8462 - val_loss: 0.3416 - val_binary_accuracy: 0.8489 - val_accuracy: 0.8489\n",
      "Epoch 60/100\n",
      "654/654 [==============================] - 6s 9ms/step - loss: 0.3509 - binary_accuracy: 0.8455 - accuracy: 0.8455 - val_loss: 0.3441 - val_binary_accuracy: 0.8520 - val_accuracy: 0.8520\n",
      "Epoch 61/100\n",
      "654/654 [==============================] - 6s 9ms/step - loss: 0.3502 - binary_accuracy: 0.8462 - accuracy: 0.8462 - val_loss: 0.3409 - val_binary_accuracy: 0.8522 - val_accuracy: 0.8522\n",
      "Epoch 62/100\n",
      "654/654 [==============================] - 6s 10ms/step - loss: 0.3490 - binary_accuracy: 0.8464 - accuracy: 0.8464 - val_loss: 0.3397 - val_binary_accuracy: 0.8504 - val_accuracy: 0.8504\n",
      "Epoch 63/100\n",
      "654/654 [==============================] - 6s 9ms/step - loss: 0.3476 - binary_accuracy: 0.8471 - accuracy: 0.8471 - val_loss: 0.3397 - val_binary_accuracy: 0.8522 - val_accuracy: 0.8522\n",
      "Epoch 64/100\n",
      "654/654 [==============================] - 6s 9ms/step - loss: 0.3506 - binary_accuracy: 0.8462 - accuracy: 0.8462 - val_loss: 0.3481 - val_binary_accuracy: 0.8496 - val_accuracy: 0.8496\n",
      "Epoch 65/100\n",
      "654/654 [==============================] - 6s 9ms/step - loss: 0.3494 - binary_accuracy: 0.8462 - accuracy: 0.8462 - val_loss: 0.3416 - val_binary_accuracy: 0.8507 - val_accuracy: 0.8507\n",
      "Epoch 66/100\n",
      "654/654 [==============================] - 6s 10ms/step - loss: 0.3470 - binary_accuracy: 0.8481 - accuracy: 0.8481 - val_loss: 0.3406 - val_binary_accuracy: 0.8504 - val_accuracy: 0.8504\n",
      "Epoch 67/100\n",
      "654/654 [==============================] - 6s 10ms/step - loss: 0.3475 - binary_accuracy: 0.8454 - accuracy: 0.8454 - val_loss: 0.3394 - val_binary_accuracy: 0.8520 - val_accuracy: 0.8520\n",
      "Epoch 68/100\n",
      "654/654 [==============================] - 6s 9ms/step - loss: 0.3445 - binary_accuracy: 0.8485 - accuracy: 0.8485 - val_loss: 0.3404 - val_binary_accuracy: 0.8529 - val_accuracy: 0.8529\n",
      "Epoch 69/100\n",
      "654/654 [==============================] - 6s 10ms/step - loss: 0.3468 - binary_accuracy: 0.8483 - accuracy: 0.8483 - val_loss: 0.3404 - val_binary_accuracy: 0.8516 - val_accuracy: 0.8516\n",
      "Epoch 70/100\n",
      "654/654 [==============================] - 6s 9ms/step - loss: 0.3445 - binary_accuracy: 0.8482 - accuracy: 0.8482 - val_loss: 0.3439 - val_binary_accuracy: 0.8491 - val_accuracy: 0.8491\n",
      "Epoch 71/100\n",
      "654/654 [==============================] - 6s 9ms/step - loss: 0.3455 - binary_accuracy: 0.8479 - accuracy: 0.8479 - val_loss: 0.3405 - val_binary_accuracy: 0.8502 - val_accuracy: 0.8502\n",
      "Epoch 72/100\n",
      "654/654 [==============================] - 6s 9ms/step - loss: 0.3432 - binary_accuracy: 0.8490 - accuracy: 0.8490 - val_loss: 0.3438 - val_binary_accuracy: 0.8489 - val_accuracy: 0.8489\n",
      "Epoch 73/100\n",
      "654/654 [==============================] - 6s 9ms/step - loss: 0.3418 - binary_accuracy: 0.8492 - accuracy: 0.8492 - val_loss: 0.3419 - val_binary_accuracy: 0.8531 - val_accuracy: 0.8531\n",
      "Epoch 74/100\n",
      "654/654 [==============================] - 6s 10ms/step - loss: 0.3435 - binary_accuracy: 0.8470 - accuracy: 0.8470 - val_loss: 0.3403 - val_binary_accuracy: 0.8513 - val_accuracy: 0.8513\n",
      "Epoch 75/100\n",
      "654/654 [==============================] - 6s 9ms/step - loss: 0.3413 - binary_accuracy: 0.8490 - accuracy: 0.8490 - val_loss: 0.3422 - val_binary_accuracy: 0.8516 - val_accuracy: 0.8516\n",
      "Epoch 76/100\n",
      "654/654 [==============================] - 6s 10ms/step - loss: 0.3379 - binary_accuracy: 0.8484 - accuracy: 0.8484 - val_loss: 0.3458 - val_binary_accuracy: 0.8511 - val_accuracy: 0.8511\n",
      "Epoch 77/100\n",
      "654/654 [==============================] - 6s 9ms/step - loss: 0.3403 - binary_accuracy: 0.8496 - accuracy: 0.8496 - val_loss: 0.3440 - val_binary_accuracy: 0.8504 - val_accuracy: 0.8504\n",
      "Epoch 78/100\n",
      "654/654 [==============================] - 6s 9ms/step - loss: 0.3393 - binary_accuracy: 0.8520 - accuracy: 0.8520 - val_loss: 0.3575 - val_binary_accuracy: 0.8467 - val_accuracy: 0.8467\n",
      "Epoch 79/100\n",
      "654/654 [==============================] - 6s 9ms/step - loss: 0.3396 - binary_accuracy: 0.8501 - accuracy: 0.8501 - val_loss: 0.3493 - val_binary_accuracy: 0.8471 - val_accuracy: 0.8471\n",
      "Epoch 80/100\n",
      "654/654 [==============================] - 6s 10ms/step - loss: 0.3375 - binary_accuracy: 0.8500 - accuracy: 0.8500 - val_loss: 0.3410 - val_binary_accuracy: 0.8522 - val_accuracy: 0.8522\n",
      "Epoch 81/100\n",
      "654/654 [==============================] - 6s 10ms/step - loss: 0.3385 - binary_accuracy: 0.8510 - accuracy: 0.8510 - val_loss: 0.3411 - val_binary_accuracy: 0.8527 - val_accuracy: 0.8527\n",
      "Epoch 82/100\n",
      "654/654 [==============================] - 6s 9ms/step - loss: 0.3362 - binary_accuracy: 0.8516 - accuracy: 0.8516 - val_loss: 0.3427 - val_binary_accuracy: 0.8511 - val_accuracy: 0.8511\n",
      "Epoch 83/100\n",
      "654/654 [==============================] - 6s 10ms/step - loss: 0.3368 - binary_accuracy: 0.8527 - accuracy: 0.8527 - val_loss: 0.3481 - val_binary_accuracy: 0.8513 - val_accuracy: 0.8513\n",
      "Epoch 84/100\n",
      "654/654 [==============================] - 6s 10ms/step - loss: 0.3358 - binary_accuracy: 0.8525 - accuracy: 0.8525 - val_loss: 0.3440 - val_binary_accuracy: 0.8520 - val_accuracy: 0.8520\n",
      "Epoch 85/100\n",
      "654/654 [==============================] - 6s 10ms/step - loss: 0.3352 - binary_accuracy: 0.8526 - accuracy: 0.8526 - val_loss: 0.3477 - val_binary_accuracy: 0.8529 - val_accuracy: 0.8529\n",
      "Epoch 86/100\n",
      "654/654 [==============================] - 6s 10ms/step - loss: 0.3351 - binary_accuracy: 0.8535 - accuracy: 0.8535 - val_loss: 0.3433 - val_binary_accuracy: 0.8507 - val_accuracy: 0.8507\n",
      "Epoch 87/100\n",
      "654/654 [==============================] - 6s 9ms/step - loss: 0.3307 - binary_accuracy: 0.8540 - accuracy: 0.8540 - val_loss: 0.3425 - val_binary_accuracy: 0.8496 - val_accuracy: 0.8496\n",
      "Epoch 88/100\n",
      "654/654 [==============================] - 6s 10ms/step - loss: 0.3333 - binary_accuracy: 0.8536 - accuracy: 0.8536 - val_loss: 0.3440 - val_binary_accuracy: 0.8544 - val_accuracy: 0.8544\n",
      "Epoch 89/100\n",
      "654/654 [==============================] - 6s 9ms/step - loss: 0.3332 - binary_accuracy: 0.8539 - accuracy: 0.8539 - val_loss: 0.3430 - val_binary_accuracy: 0.8536 - val_accuracy: 0.8536\n",
      "Epoch 90/100\n",
      "654/654 [==============================] - 6s 10ms/step - loss: 0.3331 - binary_accuracy: 0.8557 - accuracy: 0.8557 - val_loss: 0.3427 - val_binary_accuracy: 0.8533 - val_accuracy: 0.8533\n",
      "Epoch 91/100\n",
      "654/654 [==============================] - 6s 10ms/step - loss: 0.3324 - binary_accuracy: 0.8541 - accuracy: 0.8541 - val_loss: 0.3438 - val_binary_accuracy: 0.8540 - val_accuracy: 0.8540\n",
      "Epoch 92/100\n",
      "654/654 [==============================] - 6s 9ms/step - loss: 0.3299 - binary_accuracy: 0.8550 - accuracy: 0.8550 - val_loss: 0.3455 - val_binary_accuracy: 0.8511 - val_accuracy: 0.8511\n",
      "Epoch 93/100\n",
      "654/654 [==============================] - 6s 10ms/step - loss: 0.3309 - binary_accuracy: 0.8551 - accuracy: 0.8551 - val_loss: 0.3474 - val_binary_accuracy: 0.8509 - val_accuracy: 0.8509\n",
      "Epoch 94/100\n",
      "654/654 [==============================] - 6s 10ms/step - loss: 0.3292 - binary_accuracy: 0.8546 - accuracy: 0.8546 - val_loss: 0.3438 - val_binary_accuracy: 0.8544 - val_accuracy: 0.8544\n",
      "Epoch 95/100\n",
      "654/654 [==============================] - 6s 10ms/step - loss: 0.3272 - binary_accuracy: 0.8581 - accuracy: 0.8581 - val_loss: 0.3421 - val_binary_accuracy: 0.8518 - val_accuracy: 0.8518\n",
      "Epoch 96/100\n",
      "654/654 [==============================] - 6s 10ms/step - loss: 0.3301 - binary_accuracy: 0.8558 - accuracy: 0.8558 - val_loss: 0.3506 - val_binary_accuracy: 0.8509 - val_accuracy: 0.8509\n",
      "Epoch 97/100\n",
      "654/654 [==============================] - 6s 10ms/step - loss: 0.3264 - binary_accuracy: 0.8549 - accuracy: 0.8549 - val_loss: 0.3463 - val_binary_accuracy: 0.8489 - val_accuracy: 0.8489\n",
      "Epoch 98/100\n",
      "654/654 [==============================] - 6s 9ms/step - loss: 0.3263 - binary_accuracy: 0.8542 - accuracy: 0.8542 - val_loss: 0.3465 - val_binary_accuracy: 0.8507 - val_accuracy: 0.8507\n",
      "Epoch 99/100\n",
      "654/654 [==============================] - 6s 9ms/step - loss: 0.3250 - binary_accuracy: 0.8572 - accuracy: 0.8572 - val_loss: 0.3772 - val_binary_accuracy: 0.8358 - val_accuracy: 0.8358\n",
      "Epoch 100/100\n",
      "654/654 [==============================] - 6s 10ms/step - loss: 0.3257 - binary_accuracy: 0.8572 - accuracy: 0.8572 - val_loss: 0.3442 - val_binary_accuracy: 0.8531 - val_accuracy: 0.8531\n"
     ]
    },
    {
     "data": {
      "text/plain": "<keras.callbacks.History at 0x2465f1e2590>"
     },
     "execution_count": 63,
     "metadata": {},
     "output_type": "execute_result"
    }
   ],
   "source": [
    "optimizer = Adam(learning_rate=0.001)\n",
    "model.compile(loss='binary_crossentropy', optimizer=optimizer, metrics=['accuracy'])"
   ],
   "metadata": {
    "collapsed": false,
    "ExecuteTime": {
     "end_time": "2023-09-03T21:15:37.700550200Z",
     "start_time": "2023-09-03T21:05:10.132350Z"
    }
   }
  },
  {
   "cell_type": "code",
   "execution_count": 68,
   "outputs": [
    {
     "name": "stdout",
     "output_type": "stream",
     "text": [
      "157/157 [==============================] - 0s 2ms/step - loss: 0.3423 - binary_accuracy: 0.8486 - accuracy: 0.8486\n"
     ]
    }
   ],
   "source": [
    "model.fit(X_train, y_train, epochs=20, batch_size=64, verbose=1)"
   ],
   "metadata": {
    "collapsed": false,
    "ExecuteTime": {
     "end_time": "2023-09-03T21:16:00.752451300Z",
     "start_time": "2023-09-03T21:16:00.371452100Z"
    }
   }
  },
  {
   "cell_type": "code",
   "execution_count": 64,
   "outputs": [
    {
     "data": {
      "text/plain": "<Figure size 1000x500 with 2 Axes>",
      "image/png": "[encoded data removed]"
     },
     "metadata": {},
     "output_type": "display_data"
    }
   ],
   "source": [
    "# Save the model\n",
    "model.save('models/word2vec_model.h5')"
   ],
   "metadata": {
    "collapsed": false,
    "ExecuteTime": {
     "end_time": "2023-09-03T21:15:38.099540500Z",
     "start_time": "2023-09-03T21:15:37.699539400Z"
    }
   }
  },
  {
   "cell_type": "code",
   "execution_count": 69,
   "outputs": [],
   "source": [
    "# plot model\n",
    "tf.keras.utils.plot_model(model, to_file='models/word2vec_model.png', show_shapes=True, show_layer_names=True)"
   ],
   "metadata": {
    "collapsed": false,
    "ExecuteTime": {
     "end_time": "2023-09-03T21:16:23.992413900Z",
     "start_time": "2023-09-03T21:16:23.982408800Z"
    }
   }
  },
  {
   "cell_type": "code",
   "execution_count": 81,
   "outputs": [
    {
     "name": "stdout",
     "output_type": "stream",
     "text": [
      "1/1 [==============================] - 0s 17ms/step\n"
     ]
    },
    {
     "data": {
      "text/plain": "array([[ True],\n       [False],\n       [False]])"
     },
     "execution_count": 81,
     "metadata": {},
     "output_type": "execute_result"
    }
   ],
   "source": [
    "# Evaluate the model\n",
    "score = model.evaluate(X_test, y_test, verbose=1)\n",
    "print(\"Test Score:\", score)"
   ],
   "metadata": {
    "collapsed": false,
    "ExecuteTime": {
     "end_time": "2023-09-03T21:17:33.561925600Z",
     "start_time": "2023-09-03T21:17:33.502553200Z"
    }
   }
  },
  {
   "cell_type": "code",
   "execution_count": 82,
   "outputs": [],
   "source": [
    "def predict_review(review: str):\n",
    "    \"\"\"\n",
    "    This function predicts the sentiment of the review.\n",
    "    :param review: str\n",
    "    :return: prediction: str\n",
    "    \"\"\"\n",
    "    feature_vector = feature_extraction_word2vec(review)\n",
    "    print(type(feature_vector))\n",
    "    prediction = model.predict(feature_vector)\n",
    "    # if prediction > 0.5:\n",
    "    #     return 'positive'\n",
    "    # else:\n",
    "    #     return 'negative'"
   ],
   "metadata": {
    "collapsed": false,
    "ExecuteTime": {
     "end_time": "2023-09-03T21:18:48.608724500Z",
     "start_time": "2023-09-03T21:18:48.565086900Z"
    }
   }
  },
  {
   "cell_type": "code",
   "execution_count": null,
   "outputs": [],
   "source": [
    "predict_review('This movie is really good. I liked it a lot.')"
   ],
   "metadata": {
    "collapsed": false
   }
  }
 ],
 "metadata": {
  "kernelspec": {
   "display_name": "Python 3",
   "language": "python",
   "name": "python3"
  },
  "language_info": {
   "codemirror_mode": {
    "name": "ipython",
    "version": 2
   },
   "file_extension": ".py",
   "mimetype": "text/x-python",
   "name": "python",
   "nbconvert_exporter": "python",
   "pygments_lexer": "ipython2",
   "version": "2.7.6"
  }
 },
 "nbformat": 4,
 "nbformat_minor": 0
}
